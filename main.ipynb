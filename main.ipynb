{
 "cells": [
  {
   "cell_type": "code",
   "execution_count": 3,
   "metadata": {},
   "outputs": [
    {
     "ename": "ModuleNotFoundError",
     "evalue": "No module named 'Parameters'",
     "traceback": [
      "\u001b[1;31m---------------------------------------------------------------------------\u001b[0m",
      "\u001b[1;31mModuleNotFoundError\u001b[0m                       Traceback (most recent call last)",
      "\u001b[1;32m<ipython-input-3-8b4dec57ab6e>\u001b[0m in \u001b[0;36m<module>\u001b[1;34m()\u001b[0m\n\u001b[0;32m      4\u001b[0m \u001b[1;32mimport\u001b[0m \u001b[0mtime\u001b[0m\u001b[1;33m\u001b[0m\u001b[0m\n\u001b[0;32m      5\u001b[0m \u001b[1;32mimport\u001b[0m \u001b[0mmath\u001b[0m\u001b[1;33m\u001b[0m\u001b[0m\n\u001b[1;32m----> 6\u001b[1;33m \u001b[1;32mimport\u001b[0m \u001b[0mParameters\u001b[0m\u001b[1;33m\u001b[0m\u001b[0m\n\u001b[0m\u001b[0;32m      7\u001b[0m \u001b[1;33m\u001b[0m\u001b[0m\n\u001b[0;32m      8\u001b[0m \u001b[1;32mfrom\u001b[0m \u001b[0mCircle\u001b[0m \u001b[1;32mimport\u001b[0m \u001b[0mAsteroid\u001b[0m\u001b[1;33m\u001b[0m\u001b[0m\n",
      "\u001b[1;31mModuleNotFoundError\u001b[0m: No module named 'Parameters'"
     ],
     "output_type": "error"
    }
   ],
   "source": [
    "import pygame\n",
    "import sys\n",
    "import random\n",
    "import time\n",
    "import math\n",
    "import Parameters\n",
    "\n",
    "from Circle import Asteroid\n",
    "\n",
    "pygame.init()\n",
    "screen = pygame.display.set_mode((Parameters.SCREEN_WIDTH, Parameters.SCREEN_HEIGHT))\n",
    "myFont = pygame.font.SysFont(None, 15)\n",
    "\n",
    "asteroids = []\n",
    "for i in range(20):\n",
    "    randColor = (random.randint(200,255), random.randint(200,255), random.randint(200,255))\n",
    "    c = Asteroid(random.uniform(0, Parameters.SCREEN_WIDTH), random.uniform(0, Parameters.SCREEN_HEIGHT), random.uniform(20, 50), randColor, 100, random.uniform(0, 2*math.pi))\n",
    "    asteroids.append(c)\n",
    "\n",
    "t = time.clock()\n",
    "while 1:\n",
    "    oldT = t\n",
    "    t = time.clock()\n",
    "    delta = t-oldT\n",
    "    screen.fill((0, 0, 0))\n",
    "    for event in pygame.event.get():\n",
    "        if event.type == pygame.QUIT or (event.type == pygame.KEYDOWN and event.key == pygame.K_ESCAPE) or (\n",
    "                event.type == pygame.KEYDOWN and event.key == pygame.K_a):\n",
    "            print(\"exiting...\")\n",
    "            sys.exit()\n",
    "\n",
    "    for a in asteroids:\n",
    "        a.update(delta)\n",
    "        pygame.draw.circle(screen, a.color, a.pos.astype(int), int(a.radius))\n",
    "\n",
    "    for i in range(len(asteroids)):\n",
    "        for j in range(i+1, len(asteroids)):\n",
    "            a1 = asteroids[i]\n",
    "            a2 = asteroids[j]\n",
    "            if a1.radius+a2.radius < math.sqrt((a1.pos[0]-a2.pos[0])**2+(a1.pos[1]-a2.pos[1])**2):\n",
    "                print(\"Collision\")\n",
    "\n",
    "    pygame.display.flip()\n"
   ]
  },
  {
   "cell_type": "code",
   "execution_count": null,
   "metadata": {},
   "outputs": [],
   "source": []
  }
 ],
 "metadata": {
  "language": "python"
 },
 "nbformat": 4,
 "nbformat_minor": 2
}
